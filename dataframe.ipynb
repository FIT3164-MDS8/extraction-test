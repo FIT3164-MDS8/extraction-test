{
 "cells": [
  {
   "cell_type": "code",
   "execution_count": 1,
   "id": "48d75475",
   "metadata": {},
   "outputs": [],
   "source": [
    "from pandas import DataFrame as df"
   ]
  },
  {
   "cell_type": "code",
   "execution_count": 13,
   "id": "3c3a3c28",
   "metadata": {
    "scrolled": true
   },
   "outputs": [],
   "source": [
    "abs_df = df({'word': ['brownchagoortp', 'the', 'neurocognition', 'of', 'language', 'oxford', 'oxford', 'university','1998', 'brain', 'potentials', 'and', 'syntactic', 'violations', 'revisited', ':', 'no', 'evof', 'the', 'syntactic', 'positive', 'shift', '.', 'neuropsychologia', '36', '217', '226', '15', 'obereckerrfriedrichmfriedericiad', \n",
    "'of', 'syntactic', 'processing', 'in', 'two-year-olds', '.', 'journal', 'of']})"
   ]
  },
  {
   "cell_type": "code",
   "execution_count": 14,
   "id": "98356e8d",
   "metadata": {
    "scrolled": true
   },
   "outputs": [
    {
     "data": {
      "text/plain": [
       "37"
      ]
     },
     "execution_count": 14,
     "metadata": {},
     "output_type": "execute_result"
    }
   ],
   "source": [
    "len(abs_df)"
   ]
  },
  {
   "cell_type": "code",
   "execution_count": 15,
   "id": "7cc96afa",
   "metadata": {
    "scrolled": true
   },
   "outputs": [
    {
     "data": {
      "text/plain": [
       "37"
      ]
     },
     "execution_count": 15,
     "metadata": {},
     "output_type": "execute_result"
    }
   ],
   "source": [
    "len(['brownchagoortp', 'the', 'neurocognition', 'of', 'language', 'oxford', 'oxford', 'university','1998', 'brain', 'potentials', 'and', 'syntactic', 'violations', 'revisited', ':', 'no', 'evof', 'the', 'syntactic', 'positive', 'shift', '.', 'neuropsychologia', '36', '217', '226', '15', 'obereckerrfriedrichmfriedericiad', \n",
    "'of', 'syntactic', 'processing', 'in', 'two-year-olds', '.', 'journal', 'of'])"
   ]
  },
  {
   "cell_type": "code",
   "execution_count": 32,
   "id": "13c35160",
   "metadata": {},
   "outputs": [],
   "source": [
    "test = abs_df.groupby(['word']).size().reset_index(name='counts')"
   ]
  },
  {
   "cell_type": "code",
   "execution_count": 34,
   "id": "3d4cc82e",
   "metadata": {},
   "outputs": [],
   "source": [
    "test.to_csv(\"test.csv\", index=False)"
   ]
  },
  {
   "cell_type": "code",
   "execution_count": 3,
   "id": "ade74dee",
   "metadata": {},
   "outputs": [
    {
     "data": {
      "text/plain": [
       "'C:\\\\Users\\\\User\\\\Desktop\\\\MONASH Y3S2\\\\FIT3164\\\\Codes\\\\xml-extraction\\\\xml-1000\\\\output'"
      ]
     },
     "execution_count": 3,
     "metadata": {},
     "output_type": "execute_result"
    }
   ],
   "source": [
    "os.getcwd()"
   ]
  },
  {
   "cell_type": "code",
   "execution_count": 16,
   "id": "c1b33473",
   "metadata": {},
   "outputs": [
    {
     "data": {
      "text/plain": [
       "['a', 'a', 'a', 'a', 'a']"
      ]
     },
     "execution_count": 16,
     "metadata": {},
     "output_type": "execute_result"
    }
   ],
   "source": [
    "[\"a\"]*5"
   ]
  },
  {
   "cell_type": "code",
   "execution_count": 31,
   "id": "f4a06614",
   "metadata": {},
   "outputs": [
    {
     "data": {
      "text/html": [
       "<div>\n",
       "<style scoped>\n",
       "    .dataframe tbody tr th:only-of-type {\n",
       "        vertical-align: middle;\n",
       "    }\n",
       "\n",
       "    .dataframe tbody tr th {\n",
       "        vertical-align: top;\n",
       "    }\n",
       "\n",
       "    .dataframe thead th {\n",
       "        text-align: right;\n",
       "    }\n",
       "</style>\n",
       "<table border=\"1\" class=\"dataframe\">\n",
       "  <thead>\n",
       "    <tr style=\"text-align: right;\">\n",
       "      <th></th>\n",
       "      <th>article_filename</th>\n",
       "      <th>word</th>\n",
       "      <th>1</th>\n",
       "      <th>2</th>\n",
       "      <th>3</th>\n",
       "      <th>4</th>\n",
       "      <th>5</th>\n",
       "      <th>6</th>\n",
       "    </tr>\n",
       "  </thead>\n",
       "  <tbody>\n",
       "  </tbody>\n",
       "</table>\n",
       "</div>"
      ],
      "text/plain": [
       "Empty DataFrame\n",
       "Columns: [article_filename, word, 1, 2, 3, 4, 5, 6]\n",
       "Index: []"
      ]
     },
     "execution_count": 31,
     "metadata": {},
     "output_type": "execute_result"
    }
   ],
   "source": [
    "import os\n",
    "from pandas import DataFrame as df\n",
    "import pandas as pd\n",
    "\n",
    "# os.chdir('xml-1000\\\\')\n",
    "# os.chdir('output\\\\')\n",
    "\n",
    "def dataframe_search():\n",
    "    \"\"\"\n",
    "    A function that loops through all the document for all the process\n",
    "    Output the final DataFrame to a csv file with the initial filename with .csv instead of .xml\n",
    "    \"\"\"\n",
    "    \n",
    "    ret = df(columns = ['article_filename','word','1', '2', '3', '4', '5', '6'])\n",
    "\n",
    "    file_list = os.listdir()\n",
    "    for docName in file_list:\n",
    "\n",
    "        if os.path.isfile(docName):\n",
    "\n",
    "            temp = pd.read_csv(docName)\n",
    "            temp.insert(0, 'article_filename', [docName[:-4]]*len(temp), True)\n",
    "            ret.append(temp, ignore_index=True)\n",
    "    \n",
    "#     print(ret)\n",
    "    return ret\n",
    "            \n",
    "# dataframe_join()\n",
    "dataframe_search()"
   ]
  },
  {
   "cell_type": "code",
   "execution_count": 29,
   "id": "e6790665",
   "metadata": {},
   "outputs": [],
   "source": [
    "import os\n",
    "from pandas import DataFrame as df\n",
    "import pandas as pd\n",
    "\n",
    "os.chdir('xml-1000\\\\')\n",
    "os.chdir('output\\\\')\n",
    "\n",
    "def dataframe_average():\n",
    "    \"\"\"\n",
    "    A function that loops through all the document for all the process\n",
    "    Output the final DataFrame to a csv file with the initial filename with .csv instead of .xml\n",
    "    \"\"\"\n",
    "    \n",
    "    ret = df(columns = ['1', '2', '3', '4', '5', '6'])\n",
    "\n",
    "    file_list = os.listdir()\n",
    "    for docName in file_list:\n",
    "\n",
    "        if os.path.isfile(docName):\n",
    "\n",
    "            temp = pd.read_csv(docName)\n",
    "            lst = list(temp.mean())\n",
    "            ret.loc[len(ret)] = lst\n",
    "    \n",
    "    print(ret)\n",
    "            \n",
    "dataframe_join()"
   ]
  },
  {
   "cell_type": "code",
   "execution_count": 30,
   "id": "928e74d9",
   "metadata": {},
   "outputs": [
    {
     "name": "stderr",
     "output_type": "stream",
     "text": [
      "C:\\Users\\User\\AppData\\Local\\Temp/ipykernel_35888/1484377672.py:15: FutureWarning: Dropping of nuisance columns in DataFrame reductions (with 'numeric_only=None') is deprecated; in a future version this will raise TypeError.  Select only valid columns before calling the reduction.\n",
      "  lst = list(temp.mean())\n"
     ]
    },
    {
     "name": "stdout",
     "output_type": "stream",
     "text": [
      "            1         2          3          4          5         6\n",
      "0    3.000000  3.000000  19.000000   3.000000        NaN       NaN\n",
      "1    2.500000  3.833333  15.333333   9.800000  10.500000  3.000000\n",
      "2    2.000000  4.000000   8.000000   1.333333   3.000000  1.000000\n",
      "3    2.666667  6.000000   9.000000  13.333333   1.000000  2.000000\n",
      "4    5.750000  8.000000  34.800000  18.400000  14.000000  3.500000\n",
      "..        ...       ...        ...        ...        ...       ...\n",
      "995  2.090909  4.700000   5.700000  15.777778   4.400000       NaN\n",
      "996       NaN       NaN        NaN        NaN        NaN       NaN\n",
      "997  3.500000  6.300000   5.000000   7.285714  12.000000  2.333333\n",
      "998  2.714286  4.333333  15.000000  12.571429  13.714286  1.600000\n",
      "999  3.200000  5.600000   2.000000   3.000000   9.400000       NaN\n",
      "\n",
      "[1000 rows x 6 columns]\n"
     ]
    }
   ],
   "source": []
  },
  {
   "cell_type": "code",
   "execution_count": null,
   "id": "c54166b6",
   "metadata": {},
   "outputs": [],
   "source": []
  }
 ],
 "metadata": {
  "kernelspec": {
   "display_name": "Python 3 (ipykernel)",
   "language": "python",
   "name": "python3"
  },
  "language_info": {
   "codemirror_mode": {
    "name": "ipython",
    "version": 3
   },
   "file_extension": ".py",
   "mimetype": "text/x-python",
   "name": "python",
   "nbconvert_exporter": "python",
   "pygments_lexer": "ipython3",
   "version": "3.9.7"
  }
 },
 "nbformat": 4,
 "nbformat_minor": 5
}
